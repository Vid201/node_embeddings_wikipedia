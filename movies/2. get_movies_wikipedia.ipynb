{
 "cells": [
  {
   "cell_type": "code",
   "execution_count": 1,
   "metadata": {},
   "outputs": [],
   "source": [
    "import csv\n",
    "from data import wikipedia\n",
    "import pandas as pd"
   ]
  },
  {
   "cell_type": "code",
   "execution_count": 2,
   "metadata": {},
   "outputs": [
    {
     "name": "stdout",
     "output_type": "stream",
     "text": [
      "                              title       label  \\\n",
      "id                                                \n",
      "0                 Avengers: Endgame  super-hero   \n",
      "1            Avengers: Infinity War  super-hero   \n",
      "2                      The Avengers  super-hero   \n",
      "3           Avengers: Age of Ultron  super-hero   \n",
      "4                     Black Panther  super-hero   \n",
      "..                              ...         ...   \n",
      "495    Teenage Mutant Ninja Turtles     fantasy   \n",
      "496  Percy Jackson: Sea of Monsters     fantasy   \n",
      "497                  City of Angels     fantasy   \n",
      "498           Jack the Giant Slayer     fantasy   \n",
      "499                         Beowulf     fantasy   \n",
      "\n",
      "                                                   URL  \n",
      "id                                                      \n",
      "0      https://en.wikipedia.org/wiki/Avengers:_Endgame  \n",
      "1    https://en.wikipedia.org/wiki/Avengers:_Infini...  \n",
      "2    https://en.wikipedia.org/wiki/The_Avengers_(20...  \n",
      "3    https://en.wikipedia.org/wiki/Avengers:_Age_of...  \n",
      "4    https://en.wikipedia.org/wiki/Black_Panther_(f...  \n",
      "..                                                 ...  \n",
      "495  https://en.wikipedia.org/wiki/Teenage_Mutant_N...  \n",
      "496  https://en.wikipedia.org/wiki/Percy_Jackson:_S...  \n",
      "497  https://en.wikipedia.org/wiki/City_of_Angels_(...  \n",
      "498  https://en.wikipedia.org/wiki/Jack_the_Giant_S...  \n",
      "499  https://en.wikipedia.org/wiki/Beowulf_(2007_film)  \n",
      "\n",
      "[500 rows x 3 columns]\n"
     ]
    }
   ],
   "source": [
    "movies_df = pd.read_csv('movies.csv', quoting=csv.QUOTE_ALL, index_col='id')\n",
    "movies_df['URL'] = movies_df.apply(lambda row: wikipedia.find_article_url(f'{row.title} film'), axis=1)\n",
    "print(movies_df)"
   ]
  },
  {
   "cell_type": "code",
   "execution_count": 3,
   "metadata": {},
   "outputs": [],
   "source": [
    "movies_df.to_csv('movies_wikipedia.csv', index_label='id', quoting=csv.QUOTE_ALL)"
   ]
  },
  {
   "cell_type": "markdown",
   "metadata": {},
   "source": [
    "# Data cleaning\n",
    "\n",
    "Manual check of the data. Some URLs are not movie articles, some are repeated (movies with the same name) and some are not found."
   ]
  },
  {
   "cell_type": "code",
   "execution_count": 4,
   "metadata": {},
   "outputs": [
    {
     "name": "stdout",
     "output_type": "stream",
     "text": [
      "                                                title       label  \\\n",
      "0                                           Bloodshot  super-hero   \n",
      "1                                            Watchmen  super-hero   \n",
      "2                                         Superman II  super-hero   \n",
      "3    Birds of Prey (And the Fantabulous Emancipation…  super-hero   \n",
      "4                                       Green Lantern  super-hero   \n",
      "..                                                ...         ...   \n",
      "480       Miss Peregrine’s Home for Peculiar Children     fantasy   \n",
      "481                                    The Green Mile     fantasy   \n",
      "482                   Alice Through the Looking Glass     fantasy   \n",
      "483                   Prince of Persia: Sands of Time     fantasy   \n",
      "484             The Mummy: Tomb of the Dragon Emperor     fantasy   \n",
      "\n",
      "                                                   URL  \n",
      "0       https://en.wikipedia.org/wiki/Bloodshot_(film)  \n",
      "1        https://en.wikipedia.org/wiki/Watchmen_(film)  \n",
      "2            https://en.wikipedia.org/wiki/Superman_II  \n",
      "3    https://en.wikipedia.org/wiki/Birds_of_Prey_(2...  \n",
      "4    https://en.wikipedia.org/wiki/Green_Lantern_(f...  \n",
      "..                                                 ...  \n",
      "480  https://en.wikipedia.org/wiki/Miss_Peregrine%2...  \n",
      "481  https://en.wikipedia.org/wiki/The_Green_Mile_(...  \n",
      "482  https://en.wikipedia.org/wiki/Alice_Through_th...  \n",
      "483  https://en.wikipedia.org/wiki/Prince_of_Persia...  \n",
      "484  https://en.wikipedia.org/wiki/The_Mummy:_Tomb_...  \n",
      "\n",
      "[485 rows x 3 columns]\n"
     ]
    }
   ],
   "source": [
    "movies_df = pd.read_csv('movies_wikipedia.csv', index_col='id', quoting=csv.QUOTE_ALL)\n",
    "movies_df = movies_df.dropna()\n",
    "movies_df = movies_df.drop_duplicates('URL', keep='first')\n",
    "movies_df = movies_df.reset_index(drop=True)\n",
    "print(movies_df)"
   ]
  },
  {
   "cell_type": "code",
   "execution_count": 5,
   "metadata": {},
   "outputs": [],
   "source": [
    "movies_df.to_csv('movies_wikipedia.csv', index_label='id', quoting=csv.QUOTE_ALL)"
   ]
  }
 ],
 "metadata": {
  "kernelspec": {
   "display_name": "Python 3",
   "language": "python",
   "name": "python3"
  },
  "language_info": {
   "codemirror_mode": {
    "name": "ipython",
    "version": 3
   },
   "file_extension": ".py",
   "mimetype": "text/x-python",
   "name": "python",
   "nbconvert_exporter": "python",
   "pygments_lexer": "ipython3",
   "version": "3.6.10"
  }
 },
 "nbformat": 4,
 "nbformat_minor": 4
}

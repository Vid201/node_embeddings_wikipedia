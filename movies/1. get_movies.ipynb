{
 "cells": [
  {
   "cell_type": "code",
   "execution_count": 1,
   "metadata": {},
   "outputs": [],
   "source": [
    "from constants import CLASSIFICATION_LABELS, THENUMBERS_ENDPOINTS\n",
    "import csv\n",
    "from data import thenumbers\n",
    "import pandas as pd"
   ]
  },
  {
   "cell_type": "code",
   "execution_count": 2,
   "metadata": {
    "pycharm": {
     "name": "#%%\n"
    }
   },
   "outputs": [],
   "source": [
    "movies = []\n",
    "labels = []\n",
    "\n",
    "for label, endpoint in zip(CLASSIFICATION_LABELS, THENUMBERS_ENDPOINTS):\n",
    "    movies_label = thenumbers.get_top_movies(endpoint)\n",
    "    movies += movies_label\n",
    "    labels += [label] * len(movies_label)"
   ]
  },
  {
   "cell_type": "code",
   "execution_count": 3,
   "metadata": {
    "pycharm": {
     "name": "#%%\n"
    }
   },
   "outputs": [
    {
     "name": "stdout",
     "output_type": "stream",
     "text": [
      "                              title       label\n",
      "0                 Avengers: Endgame  super-hero\n",
      "1            Avengers: Infinity War  super-hero\n",
      "2                      The Avengers  super-hero\n",
      "3           Avengers: Age of Ultron  super-hero\n",
      "4                     Black Panther  super-hero\n",
      "..                              ...         ...\n",
      "495    Teenage Mutant Ninja Turtles     fantasy\n",
      "496  Percy Jackson: Sea of Monsters     fantasy\n",
      "497                  City of Angels     fantasy\n",
      "498           Jack the Giant Slayer     fantasy\n",
      "499                         Beowulf     fantasy\n",
      "\n",
      "[500 rows x 2 columns]\n"
     ]
    }
   ],
   "source": [
    "movies_df = pd.DataFrame({'title': movies, 'label': labels})\n",
    "print(movies_df)"
   ]
  },
  {
   "cell_type": "code",
   "execution_count": 4,
   "metadata": {},
   "outputs": [],
   "source": [
    "movies_df.to_csv('movies.csv', index_label='id', quoting=csv.QUOTE_ALL)"
   ]
  }
 ],
 "metadata": {
  "kernelspec": {
   "display_name": "Python 3",
   "language": "python",
   "name": "python3"
  },
  "language_info": {
   "codemirror_mode": {
    "name": "ipython",
    "version": 3
   },
   "file_extension": ".py",
   "mimetype": "text/x-python",
   "name": "python",
   "nbconvert_exporter": "python",
   "pygments_lexer": "ipython3",
   "version": "3.6.10"
  }
 },
 "nbformat": 4,
 "nbformat_minor": 4
}

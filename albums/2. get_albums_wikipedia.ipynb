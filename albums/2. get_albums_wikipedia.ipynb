{
 "cells": [
  {
   "cell_type": "code",
   "execution_count": 1,
   "metadata": {},
   "outputs": [],
   "source": [
    "import csv\n",
    "from data import wikipedia\n",
    "import pandas as pd"
   ]
  },
  {
   "cell_type": "code",
   "execution_count": 2,
   "metadata": {},
   "outputs": [
    {
     "name": "stdout",
     "output_type": "stream",
     "text": [
      "                                          title           author       label  \\\n",
      "id                                                                             \n",
      "0                              At Folsom Prison      Johnny Cash     country   \n",
      "1                  Complete Live At San Quentin      Johnny Cash     country   \n",
      "2                           Coat Of Many Colors     Dolly Parton     country   \n",
      "3    Modern Sounds In Country And Western Music      Ray Charles     country   \n",
      "4                           Red Headed Stranger    Willie Nelson     country   \n",
      "..                                          ...              ...         ...   \n",
      "495                              Rubycon (1975)  Tangerine Dream  electronic   \n",
      "496               Richard D. James Album (1996)       Aphex Twin  electronic   \n",
      "497                        Alles ist gut (1981)           D.A.F.  electronic   \n",
      "498                     Since I Left You (2000)   The Avalanches  electronic   \n",
      "499                    An Electric Storm (1969)      White Noise  electronic   \n",
      "\n",
      "                                                   URL  \n",
      "id                                                      \n",
      "0       https://en.wikipedia.org/wiki/At_Folsom_Prison  \n",
      "1         https://en.wikipedia.org/wiki/At_San_Quentin  \n",
      "2    https://en.wikipedia.org/wiki/Coat_of_Many_Colors  \n",
      "3    https://en.wikipedia.org/wiki/Modern_Sounds_in...  \n",
      "4    https://en.wikipedia.org/wiki/Red_Headed_Stranger  \n",
      "..                                                 ...  \n",
      "495      https://en.wikipedia.org/wiki/Rubycon_(album)  \n",
      "496  https://en.wikipedia.org/wiki/Richard_D._James...  \n",
      "497  https://en.wikipedia.org/wiki/Deutsch_Amerikan...  \n",
      "498     https://en.wikipedia.org/wiki/Since_I_Left_You  \n",
      "499    https://en.wikipedia.org/wiki/An_Electric_Storm  \n",
      "\n",
      "[500 rows x 4 columns]\n"
     ]
    }
   ],
   "source": [
    "albums_df = pd.read_csv('albums.csv', quoting=csv.QUOTE_ALL, index_col='id')\n",
    "albums_df['URL'] = albums_df.apply(lambda row: wikipedia.find_article_url(f'{row.title} {row.author}'), axis=1)\n",
    "print(albums_df)"
   ]
  },
  {
   "cell_type": "code",
   "execution_count": 3,
   "metadata": {},
   "outputs": [],
   "source": [
    "albums_df.to_csv('albums_wikipedia.csv', index_label='id', quoting=csv.QUOTE_ALL)"
   ]
  },
  {
   "cell_type": "markdown",
   "metadata": {},
   "source": [
    "# Data cleaning\n",
    "\n",
    "Manual check of the data. Some URLs are not album articles, some are repeated (albums with the same name), some are not found and some are wrong because of web scraping errors (wrong title or author)."
   ]
  },
  {
   "cell_type": "code",
   "execution_count": 4,
   "metadata": {},
   "outputs": [
    {
     "name": "stdout",
     "output_type": "stream",
     "text": [
      "                                           title  \\\n",
      "0                                          Chief   \n",
      "1                              Stand By Your Man   \n",
      "2                     American III: Solitary Man   \n",
      "3                                    Golden Ring   \n",
      "4                                The Woman In Me   \n",
      "..                                           ...   \n",
      "473                         Utd. State 90 (1990)   \n",
      "474  (Who's Afraid Of?) The Art of Noise! (1984)   \n",
      "475                      Chariots of Fire (1981)   \n",
      "476       Music for the Jilted Generation (1994)   \n",
      "477                                  Kala (2007)   \n",
      "\n",
      "                             author       label  \\\n",
      "0                       Eric Church     country   \n",
      "1                     Tammy Wynette     country   \n",
      "2                       Johnny Cash     country   \n",
      "3    Tammy Wynette and George Jones     country   \n",
      "4                      Shania Twain     country   \n",
      "..                              ...         ...   \n",
      "473                       808 State  electronic   \n",
      "474                The Art of Noise  electronic   \n",
      "475                        Vangelis  electronic   \n",
      "476                     The Prodigy  electronic   \n",
      "477                          M.I.A.  electronic   \n",
      "\n",
      "                                                   URL  \n",
      "0          https://en.wikipedia.org/wiki/Chief_(album)  \n",
      "1    https://en.wikipedia.org/wiki/Stand_by_Your_Ma...  \n",
      "2    https://en.wikipedia.org/wiki/American_III:_So...  \n",
      "3    https://en.wikipedia.org/wiki/Golden_Ring_(album)  \n",
      "4    https://en.wikipedia.org/wiki/The_Woman_in_Me_...  \n",
      "..                                                 ...  \n",
      "473        https://en.wikipedia.org/wiki/Utd._State_90  \n",
      "474  https://en.wikipedia.org/wiki/Who%27s_Afraid_o...  \n",
      "475  https://en.wikipedia.org/wiki/Chariots_of_Fire...  \n",
      "476  https://en.wikipedia.org/wiki/Music_for_the_Ji...  \n",
      "477         https://en.wikipedia.org/wiki/Kala_(album)  \n",
      "\n",
      "[478 rows x 4 columns]\n"
     ]
    }
   ],
   "source": [
    "albums_df = pd.read_csv('albums_wikipedia.csv', index_col='id', quoting=csv.QUOTE_ALL)\n",
    "albums_df = albums_df.dropna()\n",
    "albums_df = albums_df.drop_duplicates('URL', keep='first')\n",
    "albums_df = albums_df.reset_index(drop=True)\n",
    "print(albums_df)"
   ]
  },
  {
   "cell_type": "code",
   "execution_count": 5,
   "metadata": {},
   "outputs": [],
   "source": [
    "albums_df.to_csv('albums_wikipedia.csv', index_label='id', quoting=csv.QUOTE_ALL)"
   ]
  }
 ],
 "metadata": {
  "kernelspec": {
   "display_name": "Python 3",
   "language": "python",
   "name": "python3"
  },
  "language_info": {
   "codemirror_mode": {
    "name": "ipython",
    "version": 3
   },
   "file_extension": ".py",
   "mimetype": "text/x-python",
   "name": "python",
   "nbconvert_exporter": "python",
   "pygments_lexer": "ipython3",
   "version": "3.6.10"
  }
 },
 "nbformat": 4,
 "nbformat_minor": 4
}

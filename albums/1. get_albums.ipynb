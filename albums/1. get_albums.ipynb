{
 "cells": [
  {
   "cell_type": "code",
   "execution_count": 1,
   "metadata": {},
   "outputs": [],
   "source": [
    "from constants import CLASSIFICATION_LABELS, DIGITALDREAMDOOR_ENDPOINTS\n",
    "import csv\n",
    "from data import digitaldreamdoor\n",
    "import pandas as pd"
   ]
  },
  {
   "cell_type": "code",
   "execution_count": 2,
   "metadata": {},
   "outputs": [],
   "source": [
    "albums = []\n",
    "labels = []\n",
    "\n",
    "for label, endpoint in zip(CLASSIFICATION_LABELS, DIGITALDREAMDOOR_ENDPOINTS):\n",
    "    albums_label = digitaldreamdoor.get_top_albums(endpoint)\n",
    "    albums += albums_label\n",
    "    labels += [label] * len(albums_label)"
   ]
  },
  {
   "cell_type": "code",
   "execution_count": 3,
   "metadata": {},
   "outputs": [
    {
     "name": "stdout",
     "output_type": "stream",
     "text": [
      "                                          title           author       label\n",
      "0                              At Folsom Prison      Johnny Cash     country\n",
      "1                  Complete Live At San Quentin      Johnny Cash     country\n",
      "2                           Coat Of Many Colors     Dolly Parton     country\n",
      "3    Modern Sounds In Country And Western Music      Ray Charles     country\n",
      "4                           Red Headed Stranger    Willie Nelson     country\n",
      "..                                          ...              ...         ...\n",
      "495                              Rubycon (1975)  Tangerine Dream  electronic\n",
      "496               Richard D. James Album (1996)       Aphex Twin  electronic\n",
      "497                        Alles ist gut (1981)           D.A.F.  electronic\n",
      "498                     Since I Left You (2000)   The Avalanches  electronic\n",
      "499                    An Electric Storm (1969)      White Noise  electronic\n",
      "\n",
      "[500 rows x 3 columns]\n"
     ]
    }
   ],
   "source": [
    "albums_df = pd.DataFrame({'title': [album[0] for album in albums], 'author': [album[1] for album in albums], 'label': labels})\n",
    "print(albums_df)"
   ]
  },
  {
   "cell_type": "code",
   "execution_count": 4,
   "metadata": {},
   "outputs": [],
   "source": [
    "albums_df.to_csv('albums.csv', index_label='id', quoting=csv.QUOTE_ALL)"
   ]
  }
 ],
 "metadata": {
  "kernelspec": {
   "display_name": "Python 3",
   "language": "python",
   "name": "python3"
  },
  "language_info": {
   "codemirror_mode": {
    "name": "ipython",
    "version": 3
   },
   "file_extension": ".py",
   "mimetype": "text/x-python",
   "name": "python",
   "nbconvert_exporter": "python",
   "pygments_lexer": "ipython3",
   "version": "3.6.10"
  }
 },
 "nbformat": 4,
 "nbformat_minor": 1
}
